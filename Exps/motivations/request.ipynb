{
 "cells": [
  {
   "cell_type": "code",
   "execution_count": 1,
   "metadata": {},
   "outputs": [],
   "source": [
    "import os\n",
    "import time \n",
    "\n",
    "# request by hey\n",
    "function = 'stream-net'\n",
    "type='unlimited-random-10m'\n",
    "output_file = function + '-' + type + '.csv'\n",
    "bash = 'hey -o csv -n 1000 -z 10m http://serverless.siat.ac.cn:31112/function/{function_name}.openfaas-fn > {output_file}'.format(function_name=function, output_file=output_file)\n",
    "os.system(bash)\n",
    "time.sleep(60*5)"
   ]
  },
  {
   "cell_type": "code",
   "execution_count": 4,
   "metadata": {},
   "outputs": [],
   "source": [
    "function = 'stream-net-wired'\n",
    "type='random-10m'\n",
    "output_file = function + '-' + type + '.csv'\n",
    "bash = 'hey -o csv -n 1000 -z 10m http://serverless.siat.ac.cn:31112/function/{function_name}.openfaas-fn > {output_file}'.format(function_name=function, output_file=output_file)\n",
    "os.system(bash)\n",
    "time.sleep(60*5)"
   ]
  },
  {
   "cell_type": "code",
   "execution_count": 5,
   "metadata": {},
   "outputs": [],
   "source": [
    "function = 'stream-net-wifi'\n",
    "type='random-10m'\n",
    "output_file = function + '-' + type + '.csv'\n",
    "bash = 'hey -o csv -n 1000 -z 10m http://serverless.siat.ac.cn:31112/function/{function_name}.openfaas-fn > {output_file}'.format(function_name=function, output_file=output_file)\n",
    "os.system(bash)\n",
    "time.sleep(60*5)"
   ]
  },
  {
   "cell_type": "code",
   "execution_count": null,
   "metadata": {},
   "outputs": [],
   "source": []
  }
 ],
 "metadata": {
  "kernelspec": {
   "display_name": "Python 3.7.9 64-bit",
   "language": "python",
   "name": "python3"
  },
  "language_info": {
   "codemirror_mode": {
    "name": "ipython",
    "version": 3
   },
   "file_extension": ".py",
   "mimetype": "text/x-python",
   "name": "python",
   "nbconvert_exporter": "python",
   "pygments_lexer": "ipython3",
   "version": "3.7.9"
  },
  "orig_nbformat": 4,
  "vscode": {
   "interpreter": {
    "hash": "31f2aee4e71d21fbe5cf8b01ff0e069b9275f58929596ceb00d14d90e3e16cd6"
   }
  }
 },
 "nbformat": 4,
 "nbformat_minor": 2
}
