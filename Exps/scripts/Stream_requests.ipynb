{
 "cells": [
  {
   "cell_type": "code",
   "execution_count": null,
   "metadata": {},
   "outputs": [],
   "source": [
    "import pickle \n",
    "Stream_req = [pickle.load(open('/home/deng/bbserverlees/Azure/inter_data/g_app_1_y_brr.pkl', 'rb'))]\n",
    "\n"
   ]
  },
  {
   "cell_type": "code",
   "execution_count": null,
   "metadata": {},
   "outputs": [],
   "source": [
    "Stream_req"
   ]
  },
  {
   "cell_type": "code",
   "execution_count": null,
   "metadata": {},
   "outputs": [],
   "source": [
    "action_functions = ['lstm', 'mnist', 'resnet18', 'resnet34','resnet50', 'mobilenet4', 'shufflenet']\n",
    "action_functions = ['lstm-cloud', 'mnist-cloud', 'resnet18-cloud', 'resnet34-cloud','resnet50-cloud', 'mobilenet-cloud', 'shufflenet-cloud']\n",
    "\n",
    "\n",
    "base_url = 'http://127.0.0.1:8001/api/v1/namespaces/kl/services/{function}:8080/proxy'\n",
    "res_col = [\"function\", \"invoke_time\", \"timeModelLoad\", \"startTime\", \"endTime\", \"excutionTime\",\"response_time\", \"run_time\",\"ip\"]\n",
    "cwd = os.getcwd()"
   ]
  },
  {
   "cell_type": "code",
   "execution_count": null,
   "metadata": {},
   "outputs": [],
   "source": [
    "import aiohttp\n",
    "import asyncio\n",
    "import nest_asyncio\n",
    "import time\n",
    "import pandas as pd\n",
    "import requests\n",
    "import json\n",
    "import os\n",
    "\n",
    "nest_asyncio.apply()\n",
    "\n",
    "openfaas_base_url = 'http://serverless.siat.ac.cn:31112/function/{function_name}.openfaas-fn'\n",
    "\n",
    "\n",
    "async def invoke_function(req, session,fname):\n",
    "    url = openfaas_base_url.format(function_name=fname)\n",
    "    res = requests.get(url)\n",
    "    invoke_time = time.time()\n",
    "    url = openfaas_base_url.format(function_name=fname)\n",
    "    # res = requests.get(url)\n",
    "    res = await session.request('GET', url)\n",
    "    if res.status_code == 200:\n",
    "        text = res.text.split(\"\\n\")\n",
    "        for str in text:\n",
    "            if \"token\"  in str:\n",
    "                break\n",
    "        res_json = json.loads(str)\n",
    "        startTime = res_json[\"startTime\"]\n",
    "        timeModelLoad = res_json[\"time_model_load\"]\n",
    "        endTime = res_json[\"endTime\"]\n",
    "        excutionTime = res_json[\"runtime\"]\n",
    "        ip = res_json['ip']\n",
    "        df = pd.DataFrame(columns=res_col)\n",
    "        response_time = time.time()\n",
    "        run_time = response_time - invoke_time\n",
    "        df.loc[0] = [fname, invoke_time, timeModelLoad, startTime, endTime, excutionTime, response_time, run_time,ip]\n",
    "        df.to_csv(cwd+'/dl.csv', mode='a', header=False, index=False)\n",
    "        # return fname, invoke_time, timeModelLoad, startTime, endTime, excutionTime, response_time, run_time,ip\n",
    "\n",
    "async def main(vol,fname):\n",
    "    async with aiohttp.ClientSession() as session:\n",
    "        tasks = []\n",
    "        for i in range(vol):\n",
    "            tasks.append(invoke_function(req=i, session=session,fname=fname))\n",
    "        results = await asyncio.gather(*tasks, return_exceptions=True)\n",
    "    return results\n",
    "    "
   ]
  },
  {
   "cell_type": "code",
   "execution_count": null,
   "metadata": {},
   "outputs": [],
   "source": [
    "for i in Stream_req:\n",
    "    st = time.time()\n",
    "    reqs = i\n",
    "    lgth = len(action_functions)\n",
    "    avg_vol = int(reqs/lgth)\n",
    "    for fname in action_functions:\n",
    "        data = asyncio.run(main(avg_vol,fname))\n",
    "        # df_res = pd.DataFrame(columns=res_col)\n",
    "        # for item in data:\n",
    "        #     if isinstance(item, Exception):\n",
    "        #         print(item)\n",
    "        #     else: \n",
    "        #         fname, invoke_time, timeModelLoad, startTime, endTime, excutionTime, response_time, run_time,ip\n",
    "        #         df = pd.json_normalize(data)\n",
    "        #         df.drop(['token'], axis=1, inplace=True)\n",
    "        #         df['function'] = fname\n",
    "        #         df['invoke_time'] = invoke_time\n",
    "        #         df['startTime'] = startTime\n",
    "        #         df['timeModelLoad'] = timeModelLoad\n",
    "        #         df['endTime'] = endTime\n",
    "        #         df['excutionTime'] = excutionTime\n",
    "        #         df['response_time'] = response_time\n",
    "        #         df['run_time'] = run_time\n",
    "        #         df['ip'] = ip\n",
    "        #         df_res = pd.concat([df_res, df], axis=0)\n",
    "        # df.to_csv(cwd+'/dl.csv', mode='a', header=False, index=False)\n",
    "    et = time.time()\n",
    "    if et - st < 60:\n",
    "        time.sleep(60-(et - st))"
   ]
  },
  {
   "cell_type": "code",
   "execution_count": null,
   "metadata": {},
   "outputs": [],
   "source": []
  },
  {
   "cell_type": "code",
   "execution_count": null,
   "metadata": {},
   "outputs": [],
   "source": []
  }
 ],
 "metadata": {
  "kernelspec": {
   "display_name": "Python 3.9.7 ('base')",
   "language": "python",
   "name": "python3"
  },
  "language_info": {
   "codemirror_mode": {
    "name": "ipython",
    "version": 3
   },
   "file_extension": ".py",
   "mimetype": "text/x-python",
   "name": "python",
   "nbconvert_exporter": "python",
   "pygments_lexer": "ipython3",
   "version": "3.9.7"
  },
  "orig_nbformat": 4,
  "vscode": {
   "interpreter": {
    "hash": "d4d1e4263499bec80672ea0156c357c1ee493ec2b1c70f0acce89fc37c4a6abe"
   }
  }
 },
 "nbformat": 4,
 "nbformat_minor": 2
}
